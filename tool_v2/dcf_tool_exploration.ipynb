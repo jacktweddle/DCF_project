{
 "cells": [
  {
   "cell_type": "markdown",
   "metadata": {},
   "source": [
    "# Notebook to explore the DCF data"
   ]
  },
  {
   "cell_type": "markdown",
   "metadata": {},
   "source": [
    "## Importing required modules"
   ]
  },
  {
   "cell_type": "code",
   "execution_count": 17,
   "metadata": {},
   "outputs": [],
   "source": [
    "import h5py\n",
    "import ipywidgets as widgets\n",
    "import matplotlib.pyplot as plt\n",
    "import dcf_tool"
   ]
  },
  {
   "cell_type": "markdown",
   "metadata": {},
   "source": [
    "## Defining functions which allow user to see all datasets"
   ]
  },
  {
   "cell_type": "code",
   "execution_count": 18,
   "metadata": {},
   "outputs": [],
   "source": [
    "def descend_obj(obj,sep='\\t'):\n",
    "    \"\"\"\n",
    "    Iterate through groups in a HDF5 file and prints the groups and datasets names and datasets attributes\n",
    "    \"\"\"\n",
    "    if type(obj) in [h5py._hl.group.Group,h5py._hl.files.File]:\n",
    "        for key in obj.keys():\n",
    "            print(sep,'-',key,':',obj[key])\n",
    "            descend_obj(obj[key],sep=sep+'\\t')\n",
    "    elif type(obj)==h5py._hl.dataset.Dataset:\n",
    "        for key in obj.attrs.keys():\n",
    "            print(sep+'\\t','-',key,':',obj.attrs[key])\n",
    "\n",
    "def h5dump(path,group='/'):\n",
    "    \"\"\"\n",
    "    print HDF5 file metadata\n",
    "\n",
    "    group: you can give a specific group, defaults to the root group\n",
    "    \"\"\"\n",
    "    with h5py.File(path,'r') as f:\n",
    "         descend_obj(f[group])"
   ]
  },
  {
   "cell_type": "code",
   "execution_count": 19,
   "metadata": {},
   "outputs": [
    {
     "name": "stdout",
     "output_type": "stream",
     "text": [
      "\t - eyes : <HDF5 group \"/ICRP116/eyes\" (3 members)>\n",
      "\t\t - electrons : <HDF5 group \"/ICRP116/eyes/electrons\" (3 members)>\n",
      "\t\t\t - AP : <HDF5 dataset \"AP\": shape (42, 2), type \"<f8\">\n",
      "\t\t\t - ISO : <HDF5 dataset \"ISO\": shape (42, 2), type \"<f8\">\n",
      "\t\t\t - PA : <HDF5 dataset \"PA\": shape (42, 2), type \"<f8\">\n",
      "\t\t - neutrons : <HDF5 group \"/ICRP116/eyes/neutrons\" (5 members)>\n",
      "\t\t\t - AP : <HDF5 dataset \"AP\": shape (68, 2), type \"<f8\">\n",
      "\t\t\t - ISO : <HDF5 dataset \"ISO\": shape (68, 2), type \"<f8\">\n",
      "\t\t\t - LAT : <HDF5 dataset \"LAT\": shape (68, 2), type \"<f8\">\n",
      "\t\t\t - PA : <HDF5 dataset \"PA\": shape (68, 2), type \"<f8\">\n",
      "\t\t\t - ROT : <HDF5 dataset \"ROT\": shape (68, 2), type \"<f8\">\n",
      "\t\t - photons : <HDF5 group \"/ICRP116/eyes/photons\" (5 members)>\n",
      "\t\t\t - AP : <HDF5 dataset \"AP\": shape (50, 2), type \"<f8\">\n",
      "\t\t\t - ISO : <HDF5 dataset \"ISO\": shape (50, 2), type \"<f8\">\n",
      "\t\t\t - LAT : <HDF5 dataset \"LAT\": shape (50, 2), type \"<f8\">\n",
      "\t\t\t - PA : <HDF5 dataset \"PA\": shape (50, 2), type \"<f8\">\n",
      "\t\t\t - ROT : <HDF5 dataset \"ROT\": shape (50, 2), type \"<f8\">\n",
      "\t - full_body : <HDF5 group \"/ICRP116/full_body\" (10 members)>\n",
      "\t\t - electrons : <HDF5 group \"/ICRP116/full_body/electrons\" (3 members)>\n",
      "\t\t\t - AP : <HDF5 dataset \"AP\": shape (49, 2), type \"<f8\">\n",
      "\t\t\t - ISO : <HDF5 dataset \"ISO\": shape (49, 2), type \"<f8\">\n",
      "\t\t\t - PA : <HDF5 dataset \"PA\": shape (49, 2), type \"<f8\">\n",
      "\t\t - helium : <HDF5 group \"/ICRP116/full_body/helium\" (3 members)>\n",
      "\t\t\t - AP : <HDF5 dataset \"AP\": shape (24, 2), type \"<i8\">\n",
      "\t\t\t - ISO : <HDF5 dataset \"ISO\": shape (24, 2), type \"<i8\">\n",
      "\t\t\t - PA : <HDF5 dataset \"PA\": shape (24, 2), type \"<i8\">\n",
      "\t\t - muon+ : <HDF5 group \"/ICRP116/full_body/muon+\" (3 members)>\n",
      "\t\t\t - AP : <HDF5 dataset \"AP\": shape (33, 2), type \"<f8\">\n",
      "\t\t\t - ISO : <HDF5 dataset \"ISO\": shape (33, 2), type \"<f8\">\n",
      "\t\t\t - PA : <HDF5 dataset \"PA\": shape (33, 2), type \"<f8\">\n",
      "\t\t - muon- : <HDF5 group \"/ICRP116/full_body/muon-\" (3 members)>\n",
      "\t\t\t - AP : <HDF5 dataset \"AP\": shape (33, 2), type \"<f8\">\n",
      "\t\t\t - ISO : <HDF5 dataset \"ISO\": shape (33, 2), type \"<f8\">\n",
      "\t\t\t - PA : <HDF5 dataset \"PA\": shape (33, 2), type \"<f8\">\n",
      "\t\t - neutrons : <HDF5 group \"/ICRP116/full_body/neutrons\" (6 members)>\n",
      "\t\t\t - AP : <HDF5 dataset \"AP\": shape (68, 2), type \"<f8\">\n",
      "\t\t\t - ISO : <HDF5 dataset \"ISO\": shape (68, 2), type \"<f8\">\n",
      "\t\t\t - LLAT : <HDF5 dataset \"LLAT\": shape (68, 2), type \"<f8\">\n",
      "\t\t\t - PA : <HDF5 dataset \"PA\": shape (68, 2), type \"<f8\">\n",
      "\t\t\t - RLAT : <HDF5 dataset \"RLAT\": shape (68, 2), type \"<f8\">\n",
      "\t\t\t - ROT : <HDF5 dataset \"ROT\": shape (68, 2), type \"<f8\">\n",
      "\t\t - photons : <HDF5 group \"/ICRP116/full_body/photons\" (6 members)>\n",
      "\t\t\t - AP : <HDF5 dataset \"AP\": shape (55, 2), type \"<f8\">\n",
      "\t\t\t - ISO : <HDF5 dataset \"ISO\": shape (55, 2), type \"<f8\">\n",
      "\t\t\t - LLAT : <HDF5 dataset \"LLAT\": shape (55, 2), type \"<f8\">\n",
      "\t\t\t - PA : <HDF5 dataset \"PA\": shape (55, 2), type \"<f8\">\n",
      "\t\t\t - RLAT : <HDF5 dataset \"RLAT\": shape (55, 2), type \"<f8\">\n",
      "\t\t\t - ROT : <HDF5 dataset \"ROT\": shape (55, 2), type \"<f8\">\n",
      "\t\t - pion+ : <HDF5 group \"/ICRP116/full_body/pion+\" (3 members)>\n",
      "\t\t\t - AP : <HDF5 dataset \"AP\": shape (43, 2), type \"<f8\">\n",
      "\t\t\t - ISO : <HDF5 dataset \"ISO\": shape (43, 2), type \"<f8\">\n",
      "\t\t\t - PA : <HDF5 dataset \"PA\": shape (43, 2), type \"<f8\">\n",
      "\t\t - pion- : <HDF5 group \"/ICRP116/full_body/pion-\" (3 members)>\n",
      "\t\t\t - AP : <HDF5 dataset \"AP\": shape (33, 2), type \"<f8\">\n",
      "\t\t\t - ISO : <HDF5 dataset \"ISO\": shape (33, 2), type \"<f8\">\n",
      "\t\t\t - PA : <HDF5 dataset \"PA\": shape (33, 2), type \"<f8\">\n",
      "\t\t - positrons : <HDF5 group \"/ICRP116/full_body/positrons\" (3 members)>\n",
      "\t\t\t - AP : <HDF5 dataset \"AP\": shape (49, 2), type \"<f8\">\n",
      "\t\t\t - ISO : <HDF5 dataset \"ISO\": shape (49, 2), type \"<f8\">\n",
      "\t\t\t - PA : <HDF5 dataset \"PA\": shape (49, 2), type \"<f8\">\n",
      "\t\t - protons : <HDF5 group \"/ICRP116/full_body/protons\" (6 members)>\n",
      "\t\t\t - AP : <HDF5 dataset \"AP\": shape (33, 2), type \"<f8\">\n",
      "\t\t\t - ISO : <HDF5 dataset \"ISO\": shape (33, 2), type \"<f8\">\n",
      "\t\t\t - LLAT : <HDF5 dataset \"LLAT\": shape (33, 2), type \"<f8\">\n",
      "\t\t\t - PA : <HDF5 dataset \"PA\": shape (33, 2), type \"<f8\">\n",
      "\t\t\t - RLAT : <HDF5 dataset \"RLAT\": shape (33, 2), type \"<f8\">\n",
      "\t\t\t - ROT : <HDF5 dataset \"ROT\": shape (33, 2), type \"<f8\">\n"
     ]
    }
   ],
   "source": [
    "h5dump('DCFfile.h5', 'ICRP116')"
   ]
  },
  {
   "cell_type": "code",
   "execution_count": 25,
   "metadata": {},
   "outputs": [],
   "source": [
    "file = h5py.File('DCFfile.h5', 'r')"
   ]
  },
  {
   "cell_type": "markdown",
   "metadata": {},
   "source": [
    "# Over to you!"
   ]
  },
  {
   "cell_type": "markdown",
   "metadata": {},
   "source": [
    "First, select the unit you would like your DCF data to be inputted in. Only select 'pGy cm2' if and only if your selected organ is not 'full_body'."
   ]
  },
  {
   "cell_type": "code",
   "execution_count": 21,
   "metadata": {},
   "outputs": [
    {
     "data": {
      "application/vnd.jupyter.widget-view+json": {
       "model_id": "87144e331a36460d9bdc582e7249f1b7",
       "version_major": 2,
       "version_minor": 0
      },
      "text/plain": [
       "Dropdown(description='Output DCF units: ', options=('microSv/h per particle/cm2/s', 'rem/h per particle/cm2/s'…"
      ]
     },
     "metadata": {},
     "output_type": "display_data"
    }
   ],
   "source": [
    "output_dcf_units = widgets.Dropdown(options=['microSv/h per particle/cm2/s', 'rem/h per particle/cm2/s', 'pSv cm2', 'pGy cm2'], description = 'Output DCF units: ', disabled = False)\n",
    "display(output_dcf_units)"
   ]
  },
  {
   "cell_type": "markdown",
   "metadata": {},
   "source": [
    "Here you can input as many datasets as you like and plot them to compare. The datasets should be specified using the check function with the form (filename, group, organ, particle, orientation, output_dcf_unit).\n",
    "The available groups are ESS, NCRP38, ICRP116. To see the organs, datasets and orientations in each group, use the dump function above.\n",
    "Follow the plotting examples below to plot your data."
   ]
  },
  {
   "cell_type": "code",
   "execution_count": 26,
   "metadata": {},
   "outputs": [],
   "source": [
    "dcf1 = dcf_tool.check(file, 'ICRP116', 'full_body', 'neutrons', 'PA', output_dcf_units.value)\n",
    "dcf2 = dcf_tool.check(file, 'ICRP116', 'full_body', 'neutrons', 'AP', output_dcf_units.value)\n",
    "dcf3 = dcf_tool.check(file, 'ICRP116', 'full_body', 'neutrons', 'LLAT', output_dcf_units.value)"
   ]
  },
  {
   "cell_type": "markdown",
   "metadata": {},
   "source": [
    "Plot! The first dataset is plotted slightly different due to the nature of pandas - see below."
   ]
  },
  {
   "cell_type": "code",
   "execution_count": 27,
   "metadata": {},
   "outputs": [
    {
     "data": {
      "text/plain": [
       "<matplotlib.legend.Legend at 0x7fe7f9501c90>"
      ]
     },
     "execution_count": 27,
     "metadata": {},
     "output_type": "execute_result"
    },
    {
     "data": {
      "image/png": "[encoded data removed]",
      "text/plain": [
       "<Figure size 432x288 with 1 Axes>"
      ]
     },
     "metadata": {
      "needs_background": "light"
     },
     "output_type": "display_data"
    }
   ],
   "source": [
    "ax = dcf1.data.plot(kind='line', x=dcf1.data.columns[0], y=dcf1.data.columns[1], xlabel=('E ({})'.format(dcf1.e_units)), ylabel=('DCF ({})'.format(dcf1.dcf_units)), legend=False, logx=True)\n",
    "dcf2.data.plot(kind='line', x=dcf2.data.columns[0], y=dcf2.data.columns[1], xlabel=('E ({})'.format(dcf2.e_units)), ylabel=('DCF ({})'.format(dcf2.dcf_units)), legend=False, logx=True, ax=ax)\n",
    "dcf3.data.plot(kind='line', x=dcf3.data.columns[0], y=dcf3.data.columns[1], xlabel=('E ({})'.format(dcf3.e_units)), ylabel=('DCF ({})'.format(dcf3.dcf_units)), legend=False, logx=True, ax=ax)\n",
    "plt.legend([dcf1.path, dcf2.path, dcf3.path])"
   ]
  },
  {
   "cell_type": "markdown",
   "metadata": {},
   "source": [
    "## Select and plot your data here!"
   ]
  },
  {
   "cell_type": "code",
   "execution_count": null,
   "metadata": {},
   "outputs": [],
   "source": []
  },
  {
   "cell_type": "markdown",
   "metadata": {},
   "source": [
    "Make sure to close the hdf5 file when you're done!"
   ]
  },
  {
   "cell_type": "code",
   "execution_count": 24,
   "metadata": {},
   "outputs": [],
   "source": [
    "file.close()"
   ]
  }
 ],
 "metadata": {
  "kernelspec": {
   "display_name": "Python 3",
   "language": "python",
   "name": "python3"
  },
  "language_info": {
   "codemirror_mode": {
    "name": "ipython",
    "version": 3
   },
   "file_extension": ".py",
   "mimetype": "text/x-python",
   "name": "python",
   "nbconvert_exporter": "python",
   "pygments_lexer": "ipython3",
   "version": "3.7.6"
  }
 },
 "nbformat": 4,
 "nbformat_minor": 4
}
