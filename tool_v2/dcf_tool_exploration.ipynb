{
 "cells": [
  {
   "cell_type": "markdown",
   "metadata": {},
   "source": [
    "# Notebook to explore the DCF data"
   ]
  },
  {
   "cell_type": "markdown",
   "metadata": {},
   "source": [
    "## Defining functions to allow for exploration"
   ]
  },
  {
   "cell_type": "code",
   "execution_count": null,
   "metadata": {},
   "outputs": [],
   "source": [
    "import pandas as pd\n",
    "import numpy as np\n",
    "import h5py\n",
    "import argparse\n",
    "import unit_conversions as uc\n",
    "import ipywidgets as widgets\n",
    "import matplotlib.pyplot as plt"
   ]
  },
  {
   "cell_type": "code",
   "execution_count": null,
   "metadata": {},
   "outputs": [],
   "source": [
    "def convert(func, x):\n",
    "    '''Converts numpy arrays in place'''\n",
    "    for i in range(0, len(x)):\n",
    "        x[i] = func(x[i])\n",
    "\n",
    "\n",
    "def rem_to_microsv(x):\n",
    "    '''Converts rem to microsv'''\n",
    "    return uc.micro(uc.rem_to_sv(x))\n",
    "\n",
    "\n",
    "def microsv_to_rem(x):\n",
    "    '''Converts microsv to rem'''\n",
    "    return uc.mega(uc.sv_to_rem(x))\n",
    "\n",
    "\n",
    "def psv_cm2_to_microsv_hour(x):\n",
    "    '''Converts psv cm2 to microsv/hour per n/cm2/s'''\n",
    "    return uc.mega(3600 * x)\n",
    "\n",
    "\n",
    "def microsv_hour_to_psv_cm2(x):\n",
    "    '''Converts microsv/hour per n/cm2/s to psv cm2'''\n",
    "    return uc.micro(x / 3600)\n",
    "\n",
    "\n",
    "def psv_cm2_to_rem_hour(x):\n",
    "    '''Converts psv cm2 to rem/hour per n/cm2/s'''\n",
    "    return uc.tera(3600 * x) * 100\n",
    "\n",
    "\n",
    "def rem_hour_to_psv_cm2(x):\n",
    "    '''Converts rem/hour per n/cm2/s to psv cm2'''\n",
    "    return uc.pico(x / 3600) / 100\n",
    "\n",
    "\n",
    "def read_hdf5(file, edit_type):\n",
    "    '''Opens a hdf5 file for reading'''\n",
    "    return h5py.File(file, edit_type)\n",
    "\n",
    "\n",
    "def check_dcf_units(input_dcf_units, output_dcf_units, dose):\n",
    "    '''Checks that the DCF units are valid and converts them into the desired output unit'''\n",
    "    if input_dcf_units == 'pSv cm2':\n",
    "        if output_dcf_units == 'microSv/h per n/cm2/s':\n",
    "            convert(psv_cm2_to_microsv_hour, dose)\n",
    "        elif output_dcf_units == 'rem/h per n/cm2/s':\n",
    "            convert(psv_cm2_to_rem_hour, dose)\n",
    "        else:\n",
    "            raise ValueError('Invalid output unit!')\n",
    "    elif input_dcf_units == 'rem/h per n/cm2/s':\n",
    "        if output_dcf_units == 'microSv/h per n/cm2/s':\n",
    "            convert(rem_to_microsv, dose)\n",
    "        elif output_dcf_units == 'pSv cm2':\n",
    "            convert(rem_hour_to_psv_cm2, dose)\n",
    "        else:\n",
    "            raise ValueError('Invalid output unit!')\n",
    "    elif input_dcf_units == 'microSv/h per n/cm2/s':\n",
    "        if output_dcf_units == 'rem/h per n/cm2/s':\n",
    "            convert(microsv_to_rem, dose)\n",
    "        elif output_dcf_units == 'pSv cm2':\n",
    "            convert(microsv_hour_to_psv_cm2, dose)\n",
    "        else:\n",
    "            raise ValueError('Invalid output unit!')\n",
    "    else:\n",
    "        raise ValueError('Your DCF units are not accepted in this program.')\n",
    "\n",
    "\n",
    "def check(path, input_dcf_units, output_dcf_units):\n",
    "    '''Checks to see if the requested data exists / is valid and returns it in the requested units'''\n",
    "    data = pd.DataFrame(file.get(path), columns=['E', 'DCF']).reset_index(drop=True)\n",
    "    if input_dcf_units == output_dcf_units:\n",
    "        pass\n",
    "    else:\n",
    "        dose = np.array(data['DCF'])\n",
    "        check_dcf_units(input_dcf_units, output_dcf_units, dose)\n",
    "        data['DCF'] = dose\n",
    "    \n",
    "    return data\n",
    "\n",
    "def plot(data, xdata, ydata, energy_units, dcf_units):\n",
    "    '''Plots the data (if requested)'''\n",
    "    data.plot(kind='line', x=xdata, y=ydata, xlabel=('E ({})'.format(energy_units)), ylabel=('DCF ({})'.format(dcf_units)), legend=False, logx=True)"
   ]
  },
  {
   "cell_type": "code",
   "execution_count": null,
   "metadata": {},
   "outputs": [],
   "source": [
    "class DCF_Data:\n",
    "    def __init__(self, path, output_dcf_units):\n",
    "        self.path = path\n",
    "        self.output_dcf_units = output_dcf_units\n",
    "        self.split_path = path.split('/')\n",
    "        self.group = self.split_path[1]\n",
    "        self.e_units = file.get('/'+self.group).attrs['energy_units']\n",
    "        self.input_dcf_units = file.get('/'+self.group).attrs['dcf_units']\n",
    "        self.data = check(self.path, self.input_dcf_units, self.output_dcf_units)"
   ]
  },
  {
   "cell_type": "markdown",
   "metadata": {},
   "source": [
    "## Defining functions which allow user to see all datasets"
   ]
  },
  {
   "cell_type": "code",
   "execution_count": null,
   "metadata": {},
   "outputs": [],
   "source": [
    "def descend_obj(obj,sep='\\t'):\n",
    "    \"\"\"\n",
    "    Iterate through groups in a HDF5 file and prints the groups and datasets names and datasets attributes\n",
    "    \"\"\"\n",
    "    if type(obj) in [h5py._hl.group.Group,h5py._hl.files.File]:\n",
    "        for key in obj.keys():\n",
    "            print(sep,'-',key,':',obj[key])\n",
    "            descend_obj(obj[key],sep=sep+'\\t')\n",
    "    elif type(obj)==h5py._hl.dataset.Dataset:\n",
    "        for key in obj.attrs.keys():\n",
    "            print(sep+'\\t','-',key,':',obj.attrs[key])\n",
    "\n",
    "def h5dump(path,group='/'):\n",
    "    \"\"\"\n",
    "    print HDF5 file metadata\n",
    "\n",
    "    group: you can give a specific group, defaults to the root group\n",
    "    \"\"\"\n",
    "    with h5py.File(path,'r') as f:\n",
    "         descend_obj(f[group])"
   ]
  },
  {
   "cell_type": "code",
   "execution_count": null,
   "metadata": {},
   "outputs": [],
   "source": [
    "h5dump('DCFfile.h5', 'ICRP116')"
   ]
  },
  {
   "cell_type": "code",
   "execution_count": null,
   "metadata": {},
   "outputs": [],
   "source": [
    "file = read_hdf5('DCFfile.h5', 'r')"
   ]
  },
  {
   "cell_type": "markdown",
   "metadata": {},
   "source": [
    "# Over to you!\n",
    "\n",
    "Choose your output DCF unit from the dropdown below."
   ]
  },
  {
   "cell_type": "code",
   "execution_count": null,
   "metadata": {},
   "outputs": [],
   "source": [
    "output_dcf_units = widgets.Dropdown(options=['microSv/h per n/cm2/s', 'rem/h per n/cm2/s', 'pSv cm2'], description = 'Output DCF units: ', disabled = False)\n",
    "display(output_dcf_units)"
   ]
  },
  {
   "cell_type": "markdown",
   "metadata": {},
   "source": [
    "Here you can input as many datasets as you like and plot them to compare. The datasets should be specified as paths of the form '/group/dataset/orientation'. \n",
    "The available groups are ESS, NCRP38, ICRP116. To see the datasets and orientations in each group, use the dump function above.\n",
    "Follow the plotting examples below to plot your data."
   ]
  },
  {
   "cell_type": "code",
   "execution_count": null,
   "metadata": {},
   "outputs": [],
   "source": [
    "dcf1 = DCF_Data('/ICRP116/neutrons/PA', output_dcf_units.value)\n",
    "dcf2 = DCF_Data('/ICRP116/neutrons/AP', output_dcf_units.value)\n",
    "dcf3 = DCF_Data('/ICRP116/neutrons/LLAT', output_dcf_units.value)"
   ]
  },
  {
   "cell_type": "code",
   "execution_count": null,
   "metadata": {},
   "outputs": [],
   "source": [
    "ax = dcf1.data.plot(kind='line', x=dcf1.data.columns[0], y=dcf1.data.columns[1], xlabel=('E ({})'.format(dcf1.e_units)), ylabel=('DCF ({})'.format(dcf1.output_dcf_units)), legend=False, logx=True)\n",
    "dcf2.data.plot(kind='line', x=dcf2.data.columns[0], y=dcf2.data.columns[1], xlabel=('E ({})'.format(dcf2.e_units)), ylabel=('DCF ({})'.format(dcf2.output_dcf_units)), legend=False, logx=True, ax=ax)\n",
    "dcf3.data.plot(kind='line', x=dcf3.data.columns[0], y=dcf3.data.columns[1], xlabel=('E ({})'.format(dcf3.e_units)), ylabel=('DCF ({})'.format(dcf3.output_dcf_units)), legend=False, logx=True, ax=ax)\n",
    "plt.legend([dcf1.path, dcf2.path, dcf3.path])"
   ]
  },
  {
   "cell_type": "markdown",
   "metadata": {},
   "source": [
    "## Select and plot your data here!"
   ]
  },
  {
   "cell_type": "code",
   "execution_count": null,
   "metadata": {},
   "outputs": [],
   "source": []
  },
  {
   "cell_type": "markdown",
   "metadata": {},
   "source": [
    "Make sure to close the hdf5 file when you're done!"
   ]
  },
  {
   "cell_type": "code",
   "execution_count": null,
   "metadata": {},
   "outputs": [],
   "source": [
    "file.close()"
   ]
  }
 ],
 "metadata": {
  "kernelspec": {
   "display_name": "Python 3",
   "language": "python",
   "name": "python3"
  },
  "language_info": {
   "codemirror_mode": {
    "name": "ipython",
    "version": 3
   },
   "file_extension": ".py",
   "mimetype": "text/x-python",
   "name": "python",
   "nbconvert_exporter": "python",
   "pygments_lexer": "ipython3",
   "version": "3.7.6"
  }
 },
 "nbformat": 4,
 "nbformat_minor": 4
}
